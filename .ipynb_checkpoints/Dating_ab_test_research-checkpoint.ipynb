{
 "cells": [
  {
   "cell_type": "markdown",
   "id": "d1893be8",
   "metadata": {},
   "source": [
    "# Анализ изменений в стоимости премиум подписки"
   ]
  },
  {
   "cell_type": "markdown",
   "id": "2000d656",
   "metadata": {},
   "source": [
    ".\n",
    "\n",
    "Помимо базовых функций, в крупном дейтинговом приложении имеется премиум-подписка, которая дает доступ к ряду важных дополнительных возможностей. Был проведен A/B тест, в рамках которого для новых пользователей из нескольких стран была изменена стоимость премиум-подписки* при покупке через две новые платежные системы. При этом стоимость пробного периода оставалась прежней.\n",
    "\n",
    "Нужно проверить:\n",
    "\n",
    "1. Был ли эксперимент успешен в целом.\n",
    "2. Проанализируйте, имеет ли нововведение смысл среди каких-либо конкретных групп пользователей.\n",
    "*Деньги за подписку списываются ежемесячно до тех пор, пока пользователь её не отменит."
   ]
  },
  {
   "cell_type": "markdown",
   "id": "378f7f19",
   "metadata": {},
   "source": [
    "## 1.  Был ли эксперимент успешен в целом\n",
    "Вначале загрузим данные<br/>\n",
    "Всего есть три группы: тестовая (test), контрольная 1 (control_1) и контрольная 2 (control_2). Для каждой из них:\n",
    "- информация о самих пользователях\n",
    "- информация о платежах пользователей"
   ]
  },
  {
   "cell_type": "code",
   "execution_count": 112,
   "id": "7d96931d",
   "metadata": {},
   "outputs": [],
   "source": [
    "import pandas as pd\n",
    "import seaborn as sns\n",
    "import numpy as np\n",
    "import scipy.stats as ss\n",
    "import matplotlib.pyplot as plt\n",
    "from tqdm.auto import tqdm\n",
    "%matplotlib inline"
   ]
  },
  {
   "cell_type": "code",
   "execution_count": 113,
   "id": "c606ca1d",
   "metadata": {},
   "outputs": [],
   "source": [
    "# Определим общие настройки всех графиков Seaborn\n",
    "sns.set(\n",
    "    font_scale=1,\n",
    "    style=\"whitegrid\",\n",
    "    palette=\"dark\",\n",
    "    rc={'figure.figsize': (15, 5)}\n",
    ")"
   ]
  },
  {
   "cell_type": "code",
   "execution_count": 114,
   "id": "a13e020b",
   "metadata": {
    "scrolled": false
   },
   "outputs": [],
   "source": [
    "# Сформируем из csv таблиц датафреймы. Сразу распарсим колонки с датами\n",
    "path_ut = 'https://getfile.dokpub.com/yandex/get/https://disk.yandex.ru/d/Q9NKW-KXkGG8BQ'\n",
    "path_uc1 = 'https://getfile.dokpub.com/yandex/get/https://disk.yandex.ru/d/fZQT89k4vbypdg'\n",
    "path_uc2 = 'https://getfile.dokpub.com/yandex/get/https://disk.yandex.ru/d/If3L4bfvVpB72w'\n",
    "path_tt = 'https://getfile.dokpub.com/yandex/get/https://disk.yandex.ru/d/7OtkCAO6S2UBkQ'\n",
    "path_tc1 = 'https://getfile.dokpub.com/yandex/get/https://disk.yandex.ru/d/rRc3NQcE_naLMg'\n",
    "path_tc2 = 'https://getfile.dokpub.com/yandex/get/https://disk.yandex.ru/d/eB0Lt7CVMSnVnA'\n",
    "\n",
    "user_test_df = pd.read_csv(path_ut, sep=';')\n",
    "user_control_1_df = pd.read_csv(path_uc1, sep=';')\n",
    "user_control_2_df = pd.read_csv(path_uc2, sep=';')\n",
    "transactions_test_df = pd.read_csv(\n",
    "    path_tt, sep=';', parse_dates=['joined_at', 'paid_at'])\n",
    "transactions_control_1_df = pd.read_csv(\n",
    "    path_tc1, sep=';', parse_dates=['joined_at', 'paid_at'])\n",
    "transactions_control_2_df = pd.read_csv(\n",
    "    path_tc2, sep=';', parse_dates=['joined_at', 'paid_at'])"
   ]
  },
  {
   "cell_type": "code",
   "execution_count": 115,
   "id": "410575c8",
   "metadata": {
    "scrolled": true
   },
   "outputs": [],
   "source": [
    "# В transactions_control_1 из 1007 строк, в 630 нет значений. Удалим их.\n",
    "\n",
    "transactions_control_1_df.dropna(inplace=True)"
   ]
  },
  {
   "cell_type": "markdown",
   "id": "464620d6",
   "metadata": {},
   "source": [
    "Для удобства объединим в один датасет все таблицы с пользователями, но перед этим добавим колонку с меткой, к какой группе относится пользователь и заполним отсутствующие значения нулями"
   ]
  },
  {
   "cell_type": "code",
   "execution_count": 116,
   "id": "2ebee63a",
   "metadata": {},
   "outputs": [],
   "source": [
    "user_test_df['test_group'] = 'test'\n",
    "user_control_1_df['test_group'] = 'control_1'\n",
    "user_control_2_df['test_group'] = 'control_2'\n",
    "full_user_df = user_test_df.append(user_control_1_df) \\\n",
    "                           .append(user_control_2_df) \\\n",
    "                           .fillna(0)"
   ]
  },
  {
   "cell_type": "markdown",
   "id": "20642041",
   "metadata": {},
   "source": [
    "То же самое сделаем для таблиц с оплатами"
   ]
  },
  {
   "cell_type": "code",
   "execution_count": 117,
   "id": "c8e53cdc",
   "metadata": {},
   "outputs": [],
   "source": [
    "transactions_test_df['test_group'] = 'test'\n",
    "transactions_control_1_df['test_group'] = 'control_1'\n",
    "transactions_control_2_df['test_group'] = 'control_2'\n",
    "full_transactions_df = transactions_test_df.append(transactions_control_1_df) \\\n",
    "    .append(transactions_control_2_df)"
   ]
  },
  {
   "cell_type": "markdown",
   "id": "3cd4ee5c",
   "metadata": {},
   "source": [
    "### АА тесты\n",
    "У нас А/А/В тест с двумя контролями. Проверим качество сплитования. Для проверки используем следующие метрики:\n",
    "- CR (конверсия в оплату)\n",
    "- ARPPU (средняя выручка с платящего пользователя)"
   ]
  },
  {
   "cell_type": "code",
   "execution_count": 118,
   "id": "ee659c2f",
   "metadata": {},
   "outputs": [],
   "source": [
    "# Подготовим датафрейм для аа тестов. Добавим в full_user_df колонку is_converted \n",
    "# с бинарной переменной конверсии в оплату\n",
    "# и колонку sum_revenue с суммой выручки. В колонке total_revenue есть неточности.\n",
    "aa_df = full_transactions_df.groupby('uid', as_index=False) \\\n",
    "    .agg({'revenue': 'sum'}) \\\n",
    "    .rename(columns={'revenue': 'sum_revenue'})\n",
    "aa_df['is_converted'] = 1\n",
    "full_user_df_aa = full_user_df.merge(aa_df, how='left', on='uid').fillna(0)"
   ]
  },
  {
   "cell_type": "code",
   "execution_count": 119,
   "id": "6ce70a45",
   "metadata": {},
   "outputs": [],
   "source": [
    "def get_metric(df_1, group_column):\n",
    "    '''Обьявим функцию которая будет принимать датафрейм\n",
    "    и колонку для группировки и отдавать датафрейм с метриками конверсия, ARPU, ARPPU\n",
    "    '''\n",
    "    CR_df = df_1.groupby(group_column, as_index=False) \\\n",
    "                .agg({'is_converted': 'mean', 'sum_revenue': 'mean'}) \\\n",
    "                .rename(columns={'sum_revenue': 'ARPU', 'is_converted': 'CR'})\n",
    "    ARPPU_df = full_user_df_aa.query('sum_revenue>0').groupby(group_column, as_index=False) \\\n",
    "                              .agg({'sum_revenue': 'mean'}) \\\n",
    "                              .rename(columns={'sum_revenue': 'ARPPU'})\n",
    "    metric_df = CR_df.merge(ARPPU_df, on=group_column)\n",
    "\n",
    "    return metric_df"
   ]
  },
  {
   "cell_type": "code",
   "execution_count": 120,
   "id": "3085b8d8",
   "metadata": {},
   "outputs": [
    {
     "data": {
      "text/html": [
       "<div>\n",
       "<style scoped>\n",
       "    .dataframe tbody tr th:only-of-type {\n",
       "        vertical-align: middle;\n",
       "    }\n",
       "\n",
       "    .dataframe tbody tr th {\n",
       "        vertical-align: top;\n",
       "    }\n",
       "\n",
       "    .dataframe thead th {\n",
       "        text-align: right;\n",
       "    }\n",
       "</style>\n",
       "<table border=\"1\" class=\"dataframe\">\n",
       "  <thead>\n",
       "    <tr style=\"text-align: right;\">\n",
       "      <th></th>\n",
       "      <th>test_group</th>\n",
       "      <th>CR</th>\n",
       "      <th>ARPU</th>\n",
       "      <th>ARPPU</th>\n",
       "    </tr>\n",
       "  </thead>\n",
       "  <tbody>\n",
       "    <tr>\n",
       "      <th>0</th>\n",
       "      <td>control_1</td>\n",
       "      <td>0.044470</td>\n",
       "      <td>601.914977</td>\n",
       "      <td>13535.290155</td>\n",
       "    </tr>\n",
       "    <tr>\n",
       "      <th>1</th>\n",
       "      <td>control_2</td>\n",
       "      <td>0.043856</td>\n",
       "      <td>450.384146</td>\n",
       "      <td>10269.721925</td>\n",
       "    </tr>\n",
       "    <tr>\n",
       "      <th>2</th>\n",
       "      <td>test</td>\n",
       "      <td>0.033890</td>\n",
       "      <td>544.313138</td>\n",
       "      <td>16060.965753</td>\n",
       "    </tr>\n",
       "  </tbody>\n",
       "</table>\n",
       "</div>"
      ],
      "text/plain": [
       "  test_group        CR        ARPU         ARPPU\n",
       "0  control_1  0.044470  601.914977  13535.290155\n",
       "1  control_2  0.043856  450.384146  10269.721925\n",
       "2       test  0.033890  544.313138  16060.965753"
      ]
     },
     "execution_count": 120,
     "metadata": {},
     "output_type": "execute_result"
    }
   ],
   "source": [
    "# Посчитаем конверсию и ARPPU по нашим группам\n",
    "# ARPPU в группе контроль 1 намного больше чем в группе контроль 2, соответственно больше и ARPU\n",
    "get_metric(full_user_df_aa, 'test_group')"
   ]
  },
  {
   "cell_type": "code",
   "execution_count": 121,
   "id": "a54b14ee",
   "metadata": {
    "scrolled": true
   },
   "outputs": [
    {
     "data": {
      "image/png": "[encoded data removed]",
      "text/plain": [
       "<Figure size 1080x360 with 1 Axes>"
      ]
     },
     "metadata": {},
     "output_type": "display_data"
    }
   ],
   "source": [
    "# Построим боксплоты по выручке . Видим большой выброс в группе контроль 1.\n",
    "ax = sns.boxplot(data=full_user_df_aa.query(\n",
    "    'sum_revenue > 0'), x='sum_revenue', y='test_group', palette='Dark2')\n",
    "ax.axes.set_title(\"Выручка по пользователям\", fontsize=18)\n",
    "ax.set_xlabel(\"Выручка\", fontsize=14)\n",
    "ax.set_ylabel(\"Группа\", fontsize=14)\n",
    "plt.show()"
   ]
  },
  {
   "cell_type": "code",
   "execution_count": 122,
   "id": "c8e3bf85",
   "metadata": {
    "scrolled": true
   },
   "outputs": [],
   "source": [
    "# Удалим этого активного пользователя, так как его покупки сильно смещают среднее значение.\n",
    "full_user_df_aa.query('sum_revenue < 400000', inplace=True)"
   ]
  },
  {
   "cell_type": "code",
   "execution_count": 123,
   "id": "38c7644e",
   "metadata": {},
   "outputs": [
    {
     "data": {
      "text/html": [
       "<div>\n",
       "<style scoped>\n",
       "    .dataframe tbody tr th:only-of-type {\n",
       "        vertical-align: middle;\n",
       "    }\n",
       "\n",
       "    .dataframe tbody tr th {\n",
       "        vertical-align: top;\n",
       "    }\n",
       "\n",
       "    .dataframe thead th {\n",
       "        text-align: right;\n",
       "    }\n",
       "</style>\n",
       "<table border=\"1\" class=\"dataframe\">\n",
       "  <thead>\n",
       "    <tr style=\"text-align: right;\">\n",
       "      <th></th>\n",
       "      <th>test_group</th>\n",
       "      <th>CR</th>\n",
       "      <th>ARPU</th>\n",
       "      <th>ARPPU</th>\n",
       "    </tr>\n",
       "  </thead>\n",
       "  <tbody>\n",
       "    <tr>\n",
       "      <th>0</th>\n",
       "      <td>control_1</td>\n",
       "      <td>0.044250</td>\n",
       "      <td>489.970270</td>\n",
       "      <td>11072.817708</td>\n",
       "    </tr>\n",
       "    <tr>\n",
       "      <th>1</th>\n",
       "      <td>control_2</td>\n",
       "      <td>0.043856</td>\n",
       "      <td>450.384146</td>\n",
       "      <td>10269.721925</td>\n",
       "    </tr>\n",
       "    <tr>\n",
       "      <th>2</th>\n",
       "      <td>test</td>\n",
       "      <td>0.033890</td>\n",
       "      <td>544.313138</td>\n",
       "      <td>16060.965753</td>\n",
       "    </tr>\n",
       "  </tbody>\n",
       "</table>\n",
       "</div>"
      ],
      "text/plain": [
       "  test_group        CR        ARPU         ARPPU\n",
       "0  control_1  0.044250  489.970270  11072.817708\n",
       "1  control_2  0.043856  450.384146  10269.721925\n",
       "2       test  0.033890  544.313138  16060.965753"
      ]
     },
     "execution_count": 123,
     "metadata": {},
     "output_type": "execute_result"
    }
   ],
   "source": [
    "# Теперь ARPPU  по контрольной группе 1 намного ближе к контрольной 2\n",
    "get_metric(full_user_df_aa, 'test_group')"
   ]
  },
  {
   "cell_type": "markdown",
   "id": "9e318e5a",
   "metadata": {},
   "source": [
    "Проведём AA тесты контрольных групп. Извлечём из датафрейма с данными по каждой из групп случайные выборки размером sample_size. Сравним их значения между собой и внесём значение p-value  в список. Построим распределение этих значений и подсчитаем FPR на уровне альфа 0.05 и 0.01. Для конверсии сравнение проведём используя хи-квадрат, а для ARPPU т-критерий Стьюдента."
   ]
  },
  {
   "cell_type": "code",
   "execution_count": 124,
   "id": "1eb627f1",
   "metadata": {
    "scrolled": true
   },
   "outputs": [
    {
     "data": {
      "application/vnd.jupyter.widget-view+json": {
       "model_id": "f1376e9728494c82adcef7531f83d9b8",
       "version_major": 2,
       "version_minor": 0
      },
      "text/plain": [
       "  0%|          | 0/10000 [00:00<?, ?it/s]"
      ]
     },
     "metadata": {},
     "output_type": "display_data"
    },
    {
     "name": "stdout",
     "output_type": "stream",
     "text": [
      "FPR на уровне 0.05 = 0.0142\n",
      "FPR на уровне 0.01 = 0.0009\n"
     ]
    },
    {
     "data": {
      "image/png": "[encoded data removed]",
      "text/plain": [
       "<Figure size 1080x360 with 1 Axes>"
      ]
     },
     "metadata": {},
     "output_type": "display_data"
    }
   ],
   "source": [
    "# AA тест конверсии\n",
    "a1 = full_user_df_aa.query('test_group == \"control_1\"')[\n",
    "    ['test_group', 'is_converted']]\n",
    "a2 = full_user_df_aa.query('test_group == \"control_2\"')[\n",
    "    ['test_group', 'is_converted']]\n",
    "sample_size = round(min(len(a1), len(a2)) / 50)\n",
    "n_iteration = 10000\n",
    "CR_list = []\n",
    "for i in tqdm(range(n_iteration)):\n",
    "    s1 = a1.sample(sample_size, replace=False)\n",
    "    s2 = a2.sample(sample_size, replace=False)\n",
    "    a3 = s1.append(s2)\n",
    "    aa_crosstab = pd.crosstab(a3.test_group, a3.is_converted)\n",
    "    stat, p, dof, exp = ss.chi2_contingency(aa_crosstab)\n",
    "    CR_list.append(p)\n",
    "print(f'FPR на уровне 0.05 = {sum(np.array(CR_list) < 0.05) / n_iteration}')\n",
    "print(f'FPR на уровне 0.01 = {sum(np.array(CR_list) < 0.01) / n_iteration}')\n",
    "'''блок визуализации'''\n",
    "ax = sns.histplot(CR_list)\n",
    "ax.axes.set_title(\"P-value в АА тесте\", fontsize=18)\n",
    "ax.set_xlabel(\"p-value\", fontsize=14)\n",
    "ax.set_ylabel(\"количество наблюдений\", fontsize=14)\n",
    "plt.show()"
   ]
  },
  {
   "cell_type": "code",
   "execution_count": 125,
   "id": "4d542ccf",
   "metadata": {
    "scrolled": true
   },
   "outputs": [
    {
     "data": {
      "application/vnd.jupyter.widget-view+json": {
       "model_id": "42a4613a47a5473cb5fd73688e548a1a",
       "version_major": 2,
       "version_minor": 0
      },
      "text/plain": [
       "  0%|          | 0/10000 [00:00<?, ?it/s]"
      ]
     },
     "metadata": {},
     "output_type": "display_data"
    },
    {
     "name": "stdout",
     "output_type": "stream",
     "text": [
      "FPR на уровне 0.05 = 0.0283\n",
      "FPR на уровне 0.01 = 0.0041\n"
     ]
    },
    {
     "data": {
      "image/png": "[encoded data removed]",
      "text/plain": [
       "<Figure size 1080x360 with 1 Axes>"
      ]
     },
     "metadata": {},
     "output_type": "display_data"
    }
   ],
   "source": [
    "# АА тест ARPPU\n",
    "\n",
    "a1 = full_user_df_aa.query(\n",
    "    'test_group == \"control_1\" and sum_revenue > 0').sum_revenue\n",
    "a2 = full_user_df_aa.query(\n",
    "    'test_group == \"control_2\" and sum_revenue > 0').sum_revenue\n",
    "sample_size = round(min(len(a1), len(a2)) / 50)\n",
    "n_iteration = 10000\n",
    "t_list = []\n",
    "for i in tqdm(range(n_iteration)):\n",
    "    s1 = a1.sample(sample_size, replace=False)\n",
    "    s2 = a2.sample(sample_size, replace=False)\n",
    "    t_list.append(ss.ttest_ind(s1, s2, equal_var=False)[1])\n",
    "print(f'FPR на уровне 0.05 = {sum(np.array(t_list) < 0.05) / n_iteration}')\n",
    "print(f'FPR на уровне 0.01 = {sum(np.array(t_list) < 0.01) / n_iteration}')\n",
    "'''блок визуализации'''\n",
    "sns.histplot(t_list)\n",
    "ax.axes.set_title(\"P-value в АА тесте\", fontsize=18)\n",
    "ax.set_xlabel(\"p-value\", fontsize=14)\n",
    "ax.set_ylabel(\"количество наблюдений\", fontsize=14)\n",
    "plt.show()"
   ]
  },
  {
   "cell_type": "markdown",
   "id": "f0d9c6ec",
   "metadata": {},
   "source": [
    "### Вывод по АА тестам:\n",
    "В обоих тестах мы получили FPR меньше уровня альфа, из чего делаем вывод, что система сплитования работает корректно и можно объединить наши контрольные группы."
   ]
  },
  {
   "cell_type": "code",
   "execution_count": 126,
   "id": "1e3f7cf9",
   "metadata": {},
   "outputs": [],
   "source": [
    "full_user_df_aa['test_group_union'] = full_user_df_aa.test_group.apply(\n",
    "    lambda x: 'test' if x == 'test' else 'control')"
   ]
  },
  {
   "cell_type": "markdown",
   "id": "b069c111",
   "metadata": {},
   "source": [
    "## Успешен ли эксперимент в общем."
   ]
  },
  {
   "cell_type": "code",
   "execution_count": 127,
   "id": "4fd4b0b9",
   "metadata": {},
   "outputs": [
    {
     "data": {
      "text/html": [
       "<div>\n",
       "<style scoped>\n",
       "    .dataframe tbody tr th:only-of-type {\n",
       "        vertical-align: middle;\n",
       "    }\n",
       "\n",
       "    .dataframe tbody tr th {\n",
       "        vertical-align: top;\n",
       "    }\n",
       "\n",
       "    .dataframe thead th {\n",
       "        text-align: right;\n",
       "    }\n",
       "</style>\n",
       "<table border=\"1\" class=\"dataframe\">\n",
       "  <thead>\n",
       "    <tr style=\"text-align: right;\">\n",
       "      <th></th>\n",
       "      <th>test_group_union</th>\n",
       "      <th>CR</th>\n",
       "      <th>ARPU</th>\n",
       "      <th>ARPPU</th>\n",
       "    </tr>\n",
       "  </thead>\n",
       "  <tbody>\n",
       "    <tr>\n",
       "      <th>0</th>\n",
       "      <td>control</td>\n",
       "      <td>0.044054</td>\n",
       "      <td>470.349762</td>\n",
       "      <td>10676.567282</td>\n",
       "    </tr>\n",
       "    <tr>\n",
       "      <th>1</th>\n",
       "      <td>test</td>\n",
       "      <td>0.033890</td>\n",
       "      <td>544.313138</td>\n",
       "      <td>16060.965753</td>\n",
       "    </tr>\n",
       "  </tbody>\n",
       "</table>\n",
       "</div>"
      ],
      "text/plain": [
       "  test_group_union        CR        ARPU         ARPPU\n",
       "0          control  0.044054  470.349762  10676.567282\n",
       "1             test  0.033890  544.313138  16060.965753"
      ]
     },
     "execution_count": 127,
     "metadata": {},
     "output_type": "execute_result"
    }
   ],
   "source": [
    "# Посчитаем метрики для тестовой и объединённой контрольной группы\n",
    "get_metric(full_user_df_aa, 'test_group_union')"
   ]
  },
  {
   "cell_type": "markdown",
   "id": "bfc9cf9c",
   "metadata": {},
   "source": [
    "В тестовой группе ментше конверсия, но больше ARPPU И ARPU. Видимо в ходе эксперимента повысили стоимость премиума."
   ]
  },
  {
   "cell_type": "markdown",
   "id": "d65b71a8",
   "metadata": {},
   "source": [
    "### ARPPU\n",
    "Будем сравнивать средние значения по двум выборкам. Построим распределения, проверим равенство дисперсий и выберем статистический тест."
   ]
  },
  {
   "cell_type": "code",
   "execution_count": 128,
   "id": "f098fcc4",
   "metadata": {},
   "outputs": [
    {
     "data": {
      "text/html": [
       "<div>\n",
       "<style scoped>\n",
       "    .dataframe tbody tr th:only-of-type {\n",
       "        vertical-align: middle;\n",
       "    }\n",
       "\n",
       "    .dataframe tbody tr th {\n",
       "        vertical-align: top;\n",
       "    }\n",
       "\n",
       "    .dataframe thead th {\n",
       "        text-align: right;\n",
       "    }\n",
       "</style>\n",
       "<table border=\"1\" class=\"dataframe\">\n",
       "  <thead>\n",
       "    <tr style=\"text-align: right;\">\n",
       "      <th></th>\n",
       "      <th>uid</th>\n",
       "      <th>age</th>\n",
       "      <th>attraction_coeff</th>\n",
       "      <th>coins</th>\n",
       "      <th>country</th>\n",
       "      <th>visit_days</th>\n",
       "      <th>gender</th>\n",
       "      <th>age_filter_start</th>\n",
       "      <th>age_filter_end</th>\n",
       "      <th>views_count</th>\n",
       "      <th>was_premium</th>\n",
       "      <th>is_premium</th>\n",
       "      <th>total_revenue</th>\n",
       "      <th>test_group</th>\n",
       "      <th>sum_revenue</th>\n",
       "      <th>is_converted</th>\n",
       "      <th>test_group_union</th>\n",
       "    </tr>\n",
       "  </thead>\n",
       "  <tbody>\n",
       "    <tr>\n",
       "      <th>0</th>\n",
       "      <td>892309896</td>\n",
       "      <td>27</td>\n",
       "      <td>685</td>\n",
       "      <td>0.0</td>\n",
       "      <td>United States of America</td>\n",
       "      <td>1,2,3,4,5,6,7,8,9,10,11,12,16,17</td>\n",
       "      <td>1</td>\n",
       "      <td>24</td>\n",
       "      <td>30</td>\n",
       "      <td>89</td>\n",
       "      <td>0.0</td>\n",
       "      <td>0.0</td>\n",
       "      <td>0</td>\n",
       "      <td>test</td>\n",
       "      <td>0.0</td>\n",
       "      <td>0.0</td>\n",
       "      <td>test</td>\n",
       "    </tr>\n",
       "    <tr>\n",
       "      <th>1</th>\n",
       "      <td>892044516</td>\n",
       "      <td>27</td>\n",
       "      <td>0</td>\n",
       "      <td>0.0</td>\n",
       "      <td>Germany</td>\n",
       "      <td>0</td>\n",
       "      <td>1</td>\n",
       "      <td>24</td>\n",
       "      <td>30</td>\n",
       "      <td>0</td>\n",
       "      <td>0.0</td>\n",
       "      <td>0.0</td>\n",
       "      <td>0</td>\n",
       "      <td>test</td>\n",
       "      <td>0.0</td>\n",
       "      <td>0.0</td>\n",
       "      <td>test</td>\n",
       "    </tr>\n",
       "    <tr>\n",
       "      <th>2</th>\n",
       "      <td>892185708</td>\n",
       "      <td>45</td>\n",
       "      <td>44</td>\n",
       "      <td>0.0</td>\n",
       "      <td>Israel</td>\n",
       "      <td>1,3,4,6,7,8,10,11,12,13,14,15,16,17,18,19,20,2...</td>\n",
       "      <td>1</td>\n",
       "      <td>42</td>\n",
       "      <td>48</td>\n",
       "      <td>68</td>\n",
       "      <td>0.0</td>\n",
       "      <td>0.0</td>\n",
       "      <td>0</td>\n",
       "      <td>test</td>\n",
       "      <td>0.0</td>\n",
       "      <td>0.0</td>\n",
       "      <td>test</td>\n",
       "    </tr>\n",
       "    <tr>\n",
       "      <th>3</th>\n",
       "      <td>892130292</td>\n",
       "      <td>32</td>\n",
       "      <td>0</td>\n",
       "      <td>0.0</td>\n",
       "      <td>United States of America</td>\n",
       "      <td>1,2,3,4,5,6,7,8,9,10,11,12</td>\n",
       "      <td>1</td>\n",
       "      <td>29</td>\n",
       "      <td>35</td>\n",
       "      <td>0</td>\n",
       "      <td>0.0</td>\n",
       "      <td>0.0</td>\n",
       "      <td>0</td>\n",
       "      <td>test</td>\n",
       "      <td>0.0</td>\n",
       "      <td>0.0</td>\n",
       "      <td>test</td>\n",
       "    </tr>\n",
       "    <tr>\n",
       "      <th>4</th>\n",
       "      <td>891406035</td>\n",
       "      <td>27</td>\n",
       "      <td>1000</td>\n",
       "      <td>0.0</td>\n",
       "      <td>France</td>\n",
       "      <td>0</td>\n",
       "      <td>1</td>\n",
       "      <td>24</td>\n",
       "      <td>30</td>\n",
       "      <td>1</td>\n",
       "      <td>1.0</td>\n",
       "      <td>0.0</td>\n",
       "      <td>0</td>\n",
       "      <td>test</td>\n",
       "      <td>0.0</td>\n",
       "      <td>0.0</td>\n",
       "      <td>test</td>\n",
       "    </tr>\n",
       "    <tr>\n",
       "      <th>...</th>\n",
       "      <td>...</td>\n",
       "      <td>...</td>\n",
       "      <td>...</td>\n",
       "      <td>...</td>\n",
       "      <td>...</td>\n",
       "      <td>...</td>\n",
       "      <td>...</td>\n",
       "      <td>...</td>\n",
       "      <td>...</td>\n",
       "      <td>...</td>\n",
       "      <td>...</td>\n",
       "      <td>...</td>\n",
       "      <td>...</td>\n",
       "      <td>...</td>\n",
       "      <td>...</td>\n",
       "      <td>...</td>\n",
       "      <td>...</td>\n",
       "    </tr>\n",
       "    <tr>\n",
       "      <th>12907</th>\n",
       "      <td>891937401</td>\n",
       "      <td>63</td>\n",
       "      <td>242</td>\n",
       "      <td>0.0</td>\n",
       "      <td>Italy</td>\n",
       "      <td>1,2</td>\n",
       "      <td>1</td>\n",
       "      <td>50</td>\n",
       "      <td>66</td>\n",
       "      <td>33</td>\n",
       "      <td>0.0</td>\n",
       "      <td>0.0</td>\n",
       "      <td>0</td>\n",
       "      <td>control_2</td>\n",
       "      <td>0.0</td>\n",
       "      <td>0.0</td>\n",
       "      <td>control</td>\n",
       "    </tr>\n",
       "    <tr>\n",
       "      <th>12908</th>\n",
       "      <td>891692844</td>\n",
       "      <td>35</td>\n",
       "      <td>500</td>\n",
       "      <td>0.0</td>\n",
       "      <td>France</td>\n",
       "      <td>1,2,3,4,5,6,8,9,10,11,12,14,16</td>\n",
       "      <td>1</td>\n",
       "      <td>24</td>\n",
       "      <td>45</td>\n",
       "      <td>2</td>\n",
       "      <td>0.0</td>\n",
       "      <td>0.0</td>\n",
       "      <td>0</td>\n",
       "      <td>control_2</td>\n",
       "      <td>0.0</td>\n",
       "      <td>0.0</td>\n",
       "      <td>control</td>\n",
       "    </tr>\n",
       "    <tr>\n",
       "      <th>12909</th>\n",
       "      <td>891096429</td>\n",
       "      <td>41</td>\n",
       "      <td>333</td>\n",
       "      <td>0.0</td>\n",
       "      <td>United States of America</td>\n",
       "      <td>0</td>\n",
       "      <td>1</td>\n",
       "      <td>38</td>\n",
       "      <td>44</td>\n",
       "      <td>6</td>\n",
       "      <td>0.0</td>\n",
       "      <td>0.0</td>\n",
       "      <td>0</td>\n",
       "      <td>control_2</td>\n",
       "      <td>0.0</td>\n",
       "      <td>0.0</td>\n",
       "      <td>control</td>\n",
       "    </tr>\n",
       "    <tr>\n",
       "      <th>12910</th>\n",
       "      <td>891697584</td>\n",
       "      <td>48</td>\n",
       "      <td>210</td>\n",
       "      <td>0.0</td>\n",
       "      <td>United Kingdom (Great Britain)</td>\n",
       "      <td>2,3,5,7,9,10,12,14,15</td>\n",
       "      <td>1</td>\n",
       "      <td>45</td>\n",
       "      <td>51</td>\n",
       "      <td>19</td>\n",
       "      <td>0.0</td>\n",
       "      <td>0.0</td>\n",
       "      <td>0</td>\n",
       "      <td>control_2</td>\n",
       "      <td>0.0</td>\n",
       "      <td>0.0</td>\n",
       "      <td>control</td>\n",
       "    </tr>\n",
       "    <tr>\n",
       "      <th>12911</th>\n",
       "      <td>891095634</td>\n",
       "      <td>22</td>\n",
       "      <td>0</td>\n",
       "      <td>0.0</td>\n",
       "      <td>Italy</td>\n",
       "      <td>0</td>\n",
       "      <td>1</td>\n",
       "      <td>19</td>\n",
       "      <td>25</td>\n",
       "      <td>0</td>\n",
       "      <td>0.0</td>\n",
       "      <td>0.0</td>\n",
       "      <td>0</td>\n",
       "      <td>control_2</td>\n",
       "      <td>0.0</td>\n",
       "      <td>0.0</td>\n",
       "      <td>control</td>\n",
       "    </tr>\n",
       "  </tbody>\n",
       "</table>\n",
       "<p>12911 rows × 17 columns</p>\n",
       "</div>"
      ],
      "text/plain": [
       "             uid  age  attraction_coeff  coins  \\\n",
       "0      892309896   27               685    0.0   \n",
       "1      892044516   27                 0    0.0   \n",
       "2      892185708   45                44    0.0   \n",
       "3      892130292   32                 0    0.0   \n",
       "4      891406035   27              1000    0.0   \n",
       "...          ...  ...               ...    ...   \n",
       "12907  891937401   63               242    0.0   \n",
       "12908  891692844   35               500    0.0   \n",
       "12909  891096429   41               333    0.0   \n",
       "12910  891697584   48               210    0.0   \n",
       "12911  891095634   22                 0    0.0   \n",
       "\n",
       "                              country  \\\n",
       "0            United States of America   \n",
       "1                             Germany   \n",
       "2                              Israel   \n",
       "3            United States of America   \n",
       "4                              France   \n",
       "...                               ...   \n",
       "12907                           Italy   \n",
       "12908                          France   \n",
       "12909        United States of America   \n",
       "12910  United Kingdom (Great Britain)   \n",
       "12911                           Italy   \n",
       "\n",
       "                                              visit_days  gender  \\\n",
       "0                       1,2,3,4,5,6,7,8,9,10,11,12,16,17       1   \n",
       "1                                                      0       1   \n",
       "2      1,3,4,6,7,8,10,11,12,13,14,15,16,17,18,19,20,2...       1   \n",
       "3                             1,2,3,4,5,6,7,8,9,10,11,12       1   \n",
       "4                                                      0       1   \n",
       "...                                                  ...     ...   \n",
       "12907                                                1,2       1   \n",
       "12908                     1,2,3,4,5,6,8,9,10,11,12,14,16       1   \n",
       "12909                                                  0       1   \n",
       "12910                              2,3,5,7,9,10,12,14,15       1   \n",
       "12911                                                  0       1   \n",
       "\n",
       "       age_filter_start  age_filter_end  views_count  was_premium  is_premium  \\\n",
       "0                    24              30           89          0.0         0.0   \n",
       "1                    24              30            0          0.0         0.0   \n",
       "2                    42              48           68          0.0         0.0   \n",
       "3                    29              35            0          0.0         0.0   \n",
       "4                    24              30            1          1.0         0.0   \n",
       "...                 ...             ...          ...          ...         ...   \n",
       "12907                50              66           33          0.0         0.0   \n",
       "12908                24              45            2          0.0         0.0   \n",
       "12909                38              44            6          0.0         0.0   \n",
       "12910                45              51           19          0.0         0.0   \n",
       "12911                19              25            0          0.0         0.0   \n",
       "\n",
       "       total_revenue test_group  sum_revenue  is_converted test_group_union  \n",
       "0                  0       test          0.0           0.0             test  \n",
       "1                  0       test          0.0           0.0             test  \n",
       "2                  0       test          0.0           0.0             test  \n",
       "3                  0       test          0.0           0.0             test  \n",
       "4                  0       test          0.0           0.0             test  \n",
       "...              ...        ...          ...           ...              ...  \n",
       "12907              0  control_2          0.0           0.0          control  \n",
       "12908              0  control_2          0.0           0.0          control  \n",
       "12909              0  control_2          0.0           0.0          control  \n",
       "12910              0  control_2          0.0           0.0          control  \n",
       "12911              0  control_2          0.0           0.0          control  \n",
       "\n",
       "[12911 rows x 17 columns]"
      ]
     },
     "execution_count": 128,
     "metadata": {},
     "output_type": "execute_result"
    }
   ],
   "source": [
    "full_user_df_aa"
   ]
  },
  {
   "cell_type": "code",
   "execution_count": 129,
   "id": "1ac3349a",
   "metadata": {
    "scrolled": true
   },
   "outputs": [
    {
     "data": {
      "image/png": "[encoded data removed]",
      "text/plain": [
       "<Figure size 1080x360 with 1 Axes>"
      ]
     },
     "metadata": {},
     "output_type": "display_data"
    }
   ],
   "source": [
    "ax = sns.histplot(data=full_user_df_aa.query('sum_revenue > 0'),\n",
    "                  x='sum_revenue', hue='test_group_union', palette='Dark2')\n",
    "\n",
    "\n",
    "ax.axes.set_title(\n",
    "    \"Распределение суммарной выручки от пользователей\", fontsize=18)\n",
    "ax.set_xlabel(\"Сумма выручки\", fontsize=14)\n",
    "ax.set_ylabel(\"количество наблюдений\", fontsize=14)\n",
    "plt.show()"
   ]
  },
  {
   "cell_type": "markdown",
   "id": "d9d8a378",
   "metadata": {},
   "source": [
    "Основные покупки у пользователей на сумму до 40000. Но в обоих группах есть и выбросы. Посмотрим в таблице транзакций что покупают эти пользователи. Более 20% они потратили на премиум без триала, на который и направлен наш эксперимент. Поэтому просто выбросить приносящих самый большой доход пользователей было бы неправильным."
   ]
  },
  {
   "cell_type": "code",
   "execution_count": 130,
   "id": "3400585e",
   "metadata": {
    "scrolled": true
   },
   "outputs": [
    {
     "data": {
      "text/plain": [
       "coins               0.569231\n",
       "premium_no_trial    0.215385\n",
       "other_type          0.200000\n",
       "trial_premium       0.015385\n",
       "Name: product_type, dtype: float64"
      ]
     },
     "execution_count": 130,
     "metadata": {},
     "output_type": "execute_result"
    }
   ],
   "source": [
    "max_user_list = full_user_df_aa.query('sum_revenue > 40000').uid.to_list()\n",
    "full_transactions_df.query(\n",
    "    'uid in @max_user_list').product_type.value_counts(normalize=True)"
   ]
  },
  {
   "cell_type": "code",
   "execution_count": 131,
   "id": "eaaf4c4d",
   "metadata": {},
   "outputs": [
    {
     "data": {
      "text/plain": [
       "LeveneResult(statistic=8.168758044803443, pvalue=0.004431693851046666)"
      ]
     },
     "execution_count": 131,
     "metadata": {},
     "output_type": "execute_result"
    }
   ],
   "source": [
    "# Проверим равенство дисперсий тестом Левене. \n",
    "# Его нулевая гипотеза что дисперсии выборок равны. Получаем p-value меньше 0.05,\n",
    "# что позволяет отклонить нулевую гипотезу.\n",
    "ARPPU_test = full_user_df_aa.query(\n",
    "    'sum_revenue>0 and test_group_union == \"test\"').sum_revenue\n",
    "ARPPU_control = full_user_df_aa.query(\n",
    "    'sum_revenue>0 and test_group_union == \"control\"').sum_revenue\n",
    "\n",
    "ss.levene(ARPPU_test, ARPPU_control)"
   ]
  },
  {
   "cell_type": "markdown",
   "id": "33200f38",
   "metadata": {},
   "source": [
    "Таким образом в данных имеются выбросы, дисперсии неоднородны. Кроме того после объединения контрольной группы, её численность в два раза больше тестовой. Использовать т-тест даже с поправкой Уэлча будет не лучшим вариантом. Остаётся непараметрический критерий Манна-Уитни и бутстрап. Так как исследуем средний размер выручки, а Манна-Уитни сложно интерпретировать, выберем бутстрап."
   ]
  },
  {
   "cell_type": "code",
   "execution_count": 133,
   "id": "cf4a3470",
   "metadata": {},
   "outputs": [],
   "source": [
    "def get_bootstrap(data_column_1, data_column_2, boot_it=10000,\n",
    "                  statistic=np.mean, bootstrap_conf_level=0.95, vis=True):\n",
    "    \"\"\" Объявим функцию, которая позволит проверять гипотезы с помощью бутстрапа\n",
    "    аргументы: data_column_1 - первая выборка,\n",
    "               data_column_2 - вторая выборка,\n",
    "               boot_it - количество итераций,\n",
    "               statistic - какую статистику сравниваем по бут-выборкам,\n",
    "               bootstrap_conf_level - уровень значимости \n",
    "    \"\"\"\n",
    "    boot_len = max([len(data_column_1), len(data_column_2)])\n",
    "    boot_data = []\n",
    "    for i in tqdm(range(boot_it)):\n",
    "        samples_1 = data_column_1.sample(boot_len, replace=True).values\n",
    "        samples_2 = data_column_2.sample(boot_len, replace=True).values\n",
    "        boot_data.append(statistic(samples_1 - samples_2))\n",
    "\n",
    "    pd_boot_data = pd.DataFrame(boot_data)\n",
    "\n",
    "    left_quant = (1 - bootstrap_conf_level) / 2\n",
    "    right_quant = 1 - (1 - bootstrap_conf_level) / 2\n",
    "    ci = pd_boot_data.quantile([left_quant, right_quant])\n",
    "\n",
    "    p_1 = ss.norm.cdf(\n",
    "        x=0,\n",
    "        loc=np.mean(boot_data),\n",
    "        scale=np.std(boot_data)\n",
    "    )\n",
    "    p_2 = ss.norm.cdf(\n",
    "        x=0,\n",
    "        loc=-np.mean(boot_data),\n",
    "        scale=np.std(boot_data)\n",
    "    )\n",
    "    p_value = min(p_1, p_2) * 2\n",
    "    \"\"\" Блок визуализации\"\"\"\n",
    "    if vis:\n",
    "        ax = sns.histplot(data=pd_boot_data[0], palette='Dark2')\n",
    "        ax.axes.set_title(\"Распределение разности средних\", fontsize=18)\n",
    "        ax.set_xlabel(\"Разность средних\", fontsize=14)\n",
    "        ax.set_ylabel(\"количество наблюдений\", fontsize=14)\n",
    "        plt.show()\n",
    "\n",
    "    return {\"ci\": ci, \"p_value\": p_value}"
   ]
  },
  {
   "cell_type": "code",
   "execution_count": 134,
   "id": "6584c294",
   "metadata": {},
   "outputs": [
    {
     "data": {
      "application/vnd.jupyter.widget-view+json": {
       "model_id": "fe1210e51ec84969bfd503934175e751",
       "version_major": 2,
       "version_minor": 0
      },
      "text/plain": [
       "  0%|          | 0/10000 [00:00<?, ?it/s]"
      ]
     },
     "metadata": {},
     "output_type": "display_data"
    },
    {
     "data": {
      "image/png": "[encoded data removed]",
      "text/plain": [
       "<Figure size 1080x360 with 1 Axes>"
      ]
     },
     "metadata": {},
     "output_type": "display_data"
    },
    {
     "data": {
      "text/plain": [
       "{'ci':                  0\n",
       " 0.025  3361.104551\n",
       " 0.975  7532.991491,\n",
       " 'p_value': 3.9576982223153846e-07}"
      ]
     },
     "execution_count": 134,
     "metadata": {},
     "output_type": "execute_result"
    }
   ],
   "source": [
    "# Проведём тест между тестовой и контрольной 1\n",
    "get_bootstrap(ARPPU_test, ARPPU_control, statistic=np.mean)"
   ]
  },
  {
   "cell_type": "markdown",
   "id": "86c10d92",
   "metadata": {},
   "source": [
    "P-value меньше 0.05. __Между ARPPU в тестовой и контрольной группах имеются статистически значимые различия.__"
   ]
  },
  {
   "cell_type": "markdown",
   "id": "ae072597",
   "metadata": {},
   "source": [
    "### Конверсия \n",
    "Переменная категориальная, для теста используем хи квадрат."
   ]
  },
  {
   "cell_type": "code",
   "execution_count": 135,
   "id": "24d375a4",
   "metadata": {},
   "outputs": [
    {
     "data": {
      "text/plain": [
       "(7.343566635823208, 0.0067303173595285)"
      ]
     },
     "execution_count": 135,
     "metadata": {},
     "output_type": "execute_result"
    }
   ],
   "source": [
    "#  Построим таблицу сопряжения и проведём тест\n",
    "CR_crosstab = pd.crosstab(full_user_df_aa.is_converted,\n",
    "                          full_user_df_aa.test_group_union)\n",
    "stat, p, dof, exp = ss.chi2_contingency(CR_crosstab)\n",
    "stat, p"
   ]
  },
  {
   "cell_type": "markdown",
   "id": "20d35972",
   "metadata": {},
   "source": [
    "P-value меньше 0.05. __Между конверсией в тестовой и контрольной группах имеются статистически значимые различия.__"
   ]
  },
  {
   "cell_type": "markdown",
   "id": "740baf5e",
   "metadata": {},
   "source": [
    "### Вывод по эксперименту в общем:\n",
    "- Конверсия в тестовой группе статистически значимо __снизилась__\n",
    "- ARPPU  в тестовой группе статистически значимо __повысился__<br/>\n",
    "При этом ARPU, который учитывает и конверсию и выручку с пользователя в тестовой группе выше, значит в общем эксперимент __успешен__"
   ]
  },
  {
   "cell_type": "markdown",
   "id": "7165773f",
   "metadata": {},
   "source": [
    "## 2. Имеет ли нововведение смысл среди каких-либо конкретных групп пользователей"
   ]
  },
  {
   "cell_type": "markdown",
   "id": "fe9a9b76",
   "metadata": {},
   "source": [
    "Для анализа подготовим датафрейм из сведений о пользователях и сведений об оплатах, затем определим \n",
    "Определим наиболее приоритетными разрезами для анализа страны и возраст пользователей.\n",
    "Так как наш эксперимент изменил стоиммость премиум подписки, он может повлиять на конверсию и среднюю выручку.\n",
    "Чтобы учесть обе этих метрики и не потерять в выручке, используем ARPU."
   ]
  },
  {
   "cell_type": "markdown",
   "id": "1db4a5b4",
   "metadata": {},
   "source": [
    "### Возраст\n",
    "Для удобства анализа разделим пользователей на возрастные категории."
   ]
  },
  {
   "cell_type": "code",
   "execution_count": 136,
   "id": "7c809b70",
   "metadata": {
    "scrolled": false
   },
   "outputs": [
    {
     "data": {
      "image/png": "[encoded data removed]",
      "text/plain": [
       "<Figure size 1080x360 with 1 Axes>"
      ]
     },
     "metadata": {},
     "output_type": "display_data"
    }
   ],
   "source": [
    "# Посмотрим на распределение возраста среди пользователей.\n",
    "# Основная масса сосредоточена до 60 лет, но есть и настоящие ветераны дейтинга!\n",
    "\n",
    "ax = sns.histplot(full_user_df_aa.age, palette='Dark2')\n",
    "ax.axes.set_title(\"Распределение пользователей по возрасту\", fontsize=18)\n",
    "ax.set_xlabel(\"Возраст\", fontsize=14)\n",
    "ax.set_ylabel(\"Количество пользователей\", fontsize=14)\n",
    "plt.show()"
   ]
  },
  {
   "cell_type": "markdown",
   "id": "a751ebf9",
   "metadata": {},
   "source": [
    "Всего более 90 пользователей указали возраст более 59 лет. В том числе 16 человек указали возраст 99 лет. В таком возрасте наверное есть дела поважнее дейтинговых приложений.\n",
    "Отфильтруем этих пользователей так как даже если они совершали покупки, это скорее всего не даст объективной информации об их возрастной категории"
   ]
  },
  {
   "cell_type": "code",
   "execution_count": 137,
   "id": "d86a9626",
   "metadata": {},
   "outputs": [
    {
     "data": {
      "text/plain": [
       "count    12842.000000\n",
       "mean        31.771064\n",
       "std          9.649753\n",
       "min         16.000000\n",
       "25%         24.000000\n",
       "50%         30.000000\n",
       "75%         38.000000\n",
       "max         60.000000\n",
       "Name: age, dtype: float64"
      ]
     },
     "execution_count": 137,
     "metadata": {},
     "output_type": "execute_result"
    }
   ],
   "source": [
    "# остальных поделим на 4 части по квартилям\n",
    "\n",
    "full_user_df_aa.query('age<=60').age.describe()"
   ]
  },
  {
   "cell_type": "code",
   "execution_count": 138,
   "id": "cabdf624",
   "metadata": {},
   "outputs": [],
   "source": [
    "full_user_df_aa['age_category'] = pd.cut(full_user_df_aa['age'],\n",
    "                                         bins=[15, 25, 35, 40, 60, 100],\n",
    "                                         labels=['16-25', '26-35', '36-40', '41-60', '60+'])"
   ]
  },
  {
   "cell_type": "code",
   "execution_count": 139,
   "id": "2afc20d2",
   "metadata": {},
   "outputs": [
    {
     "data": {
      "text/html": [
       "<div>\n",
       "<style scoped>\n",
       "    .dataframe tbody tr th:only-of-type {\n",
       "        vertical-align: middle;\n",
       "    }\n",
       "\n",
       "    .dataframe tbody tr th {\n",
       "        vertical-align: top;\n",
       "    }\n",
       "\n",
       "    .dataframe thead th {\n",
       "        text-align: right;\n",
       "    }\n",
       "</style>\n",
       "<table border=\"1\" class=\"dataframe\">\n",
       "  <thead>\n",
       "    <tr style=\"text-align: right;\">\n",
       "      <th></th>\n",
       "      <th>uid</th>\n",
       "      <th>age</th>\n",
       "      <th>attraction_coeff</th>\n",
       "      <th>coins</th>\n",
       "      <th>country</th>\n",
       "      <th>visit_days</th>\n",
       "      <th>gender</th>\n",
       "      <th>age_filter_start</th>\n",
       "      <th>age_filter_end</th>\n",
       "      <th>views_count</th>\n",
       "      <th>was_premium</th>\n",
       "      <th>is_premium</th>\n",
       "      <th>total_revenue</th>\n",
       "      <th>test_group</th>\n",
       "      <th>sum_revenue</th>\n",
       "      <th>is_converted</th>\n",
       "      <th>test_group_union</th>\n",
       "      <th>age_category</th>\n",
       "    </tr>\n",
       "  </thead>\n",
       "  <tbody>\n",
       "    <tr>\n",
       "      <th>0</th>\n",
       "      <td>892309896</td>\n",
       "      <td>27</td>\n",
       "      <td>685</td>\n",
       "      <td>0.0</td>\n",
       "      <td>United States of America</td>\n",
       "      <td>1,2,3,4,5,6,7,8,9,10,11,12,16,17</td>\n",
       "      <td>1</td>\n",
       "      <td>24</td>\n",
       "      <td>30</td>\n",
       "      <td>89</td>\n",
       "      <td>0.0</td>\n",
       "      <td>0.0</td>\n",
       "      <td>0</td>\n",
       "      <td>test</td>\n",
       "      <td>0.0</td>\n",
       "      <td>0.0</td>\n",
       "      <td>test</td>\n",
       "      <td>26-35</td>\n",
       "    </tr>\n",
       "    <tr>\n",
       "      <th>1</th>\n",
       "      <td>892044516</td>\n",
       "      <td>27</td>\n",
       "      <td>0</td>\n",
       "      <td>0.0</td>\n",
       "      <td>Germany</td>\n",
       "      <td>0</td>\n",
       "      <td>1</td>\n",
       "      <td>24</td>\n",
       "      <td>30</td>\n",
       "      <td>0</td>\n",
       "      <td>0.0</td>\n",
       "      <td>0.0</td>\n",
       "      <td>0</td>\n",
       "      <td>test</td>\n",
       "      <td>0.0</td>\n",
       "      <td>0.0</td>\n",
       "      <td>test</td>\n",
       "      <td>26-35</td>\n",
       "    </tr>\n",
       "    <tr>\n",
       "      <th>2</th>\n",
       "      <td>892185708</td>\n",
       "      <td>45</td>\n",
       "      <td>44</td>\n",
       "      <td>0.0</td>\n",
       "      <td>Israel</td>\n",
       "      <td>1,3,4,6,7,8,10,11,12,13,14,15,16,17,18,19,20,2...</td>\n",
       "      <td>1</td>\n",
       "      <td>42</td>\n",
       "      <td>48</td>\n",
       "      <td>68</td>\n",
       "      <td>0.0</td>\n",
       "      <td>0.0</td>\n",
       "      <td>0</td>\n",
       "      <td>test</td>\n",
       "      <td>0.0</td>\n",
       "      <td>0.0</td>\n",
       "      <td>test</td>\n",
       "      <td>41-60</td>\n",
       "    </tr>\n",
       "  </tbody>\n",
       "</table>\n",
       "</div>"
      ],
      "text/plain": [
       "         uid  age  attraction_coeff  coins                   country  \\\n",
       "0  892309896   27               685    0.0  United States of America   \n",
       "1  892044516   27                 0    0.0                   Germany   \n",
       "2  892185708   45                44    0.0                    Israel   \n",
       "\n",
       "                                          visit_days  gender  \\\n",
       "0                   1,2,3,4,5,6,7,8,9,10,11,12,16,17       1   \n",
       "1                                                  0       1   \n",
       "2  1,3,4,6,7,8,10,11,12,13,14,15,16,17,18,19,20,2...       1   \n",
       "\n",
       "   age_filter_start  age_filter_end  views_count  was_premium  is_premium  \\\n",
       "0                24              30           89          0.0         0.0   \n",
       "1                24              30            0          0.0         0.0   \n",
       "2                42              48           68          0.0         0.0   \n",
       "\n",
       "   total_revenue test_group  sum_revenue  is_converted test_group_union  \\\n",
       "0              0       test          0.0           0.0             test   \n",
       "1              0       test          0.0           0.0             test   \n",
       "2              0       test          0.0           0.0             test   \n",
       "\n",
       "  age_category  \n",
       "0        26-35  \n",
       "1        26-35  \n",
       "2        41-60  "
      ]
     },
     "execution_count": 139,
     "metadata": {},
     "output_type": "execute_result"
    }
   ],
   "source": [
    "full_user_df_aa.head(3)"
   ]
  },
  {
   "cell_type": "code",
   "execution_count": 221,
   "id": "999330ad",
   "metadata": {},
   "outputs": [
    {
     "data": {
      "image/png": "[encoded data removed]",
      "text/plain": [
       "<Figure size 1080x360 with 2 Axes>"
      ]
     },
     "metadata": {},
     "output_type": "display_data"
    }
   ],
   "source": [
    "# Посчитаем ARPU по тестовым и возрастным группам\n",
    "# pivot_table по умолчанию агрегирует по среднему\n",
    "\n",
    "pivot_ARPU_age_df = full_user_df_aa.query('age <= 60') \\\n",
    "                                   .pivot_table(index='age_category',\n",
    "                                                columns='test_group_union',\n",
    "                                                values='sum_revenue'\n",
    "                                                ).rename_axis(None).round(2)\n",
    "'''для наглядности построим heatmap'''\n",
    "ax = sns.heatmap(pivot_ARPU_age_df, cmap='coolwarm',\n",
    "                 annot=True,\n",
    "                 fmt=''\n",
    "                 )\n",
    "ax.axes.set_title(\n",
    "    'ARPU по возрастам', fontsize=18, pad=10)\n",
    "ax.set_xlabel(\"Группа\", fontsize=14)\n",
    "ax.set_ylabel(\"Возрастная категория\", fontsize=14)\n",
    "plt.show()"
   ]
  },
  {
   "cell_type": "code",
   "execution_count": 152,
   "id": "140d3496",
   "metadata": {
    "scrolled": true
   },
   "outputs": [
    {
     "data": {
      "application/vnd.jupyter.widget-view+json": {
       "model_id": "2303260aa9f04023bf4490e3f6a97a87",
       "version_major": 2,
       "version_minor": 0
      },
      "text/plain": [
       "  0%|          | 0/10000 [00:00<?, ?it/s]"
      ]
     },
     "metadata": {},
     "output_type": "display_data"
    },
    {
     "name": "stdout",
     "output_type": "stream",
     "text": [
      "Для возрастной категории 16-25 p - value boot =  0.9140424393079083\n"
     ]
    },
    {
     "data": {
      "application/vnd.jupyter.widget-view+json": {
       "model_id": "2d37d84aef0d4ed8aa476405c117e53c",
       "version_major": 2,
       "version_minor": 0
      },
      "text/plain": [
       "  0%|          | 0/10000 [00:00<?, ?it/s]"
      ]
     },
     "metadata": {},
     "output_type": "display_data"
    },
    {
     "name": "stdout",
     "output_type": "stream",
     "text": [
      "Для возрастной категории 26-35 p - value boot =  0.46463083187893317\n"
     ]
    },
    {
     "data": {
      "application/vnd.jupyter.widget-view+json": {
       "model_id": "4dab97fe367e4e33a68f5583758b3502",
       "version_major": 2,
       "version_minor": 0
      },
      "text/plain": [
       "  0%|          | 0/10000 [00:00<?, ?it/s]"
      ]
     },
     "metadata": {},
     "output_type": "display_data"
    },
    {
     "name": "stdout",
     "output_type": "stream",
     "text": [
      "Для возрастной категории 36-40 p - value boot =  0.157556607781419\n"
     ]
    },
    {
     "data": {
      "application/vnd.jupyter.widget-view+json": {
       "model_id": "ed6466d68a5d4db58bf0260b8422d6d8",
       "version_major": 2,
       "version_minor": 0
      },
      "text/plain": [
       "  0%|          | 0/10000 [00:00<?, ?it/s]"
      ]
     },
     "metadata": {},
     "output_type": "display_data"
    },
    {
     "name": "stdout",
     "output_type": "stream",
     "text": [
      "Для возрастной категории 41-60 p - value boot =  0.6951914325222917\n"
     ]
    }
   ],
   "source": [
    "# Проведём тесты по возрастным категориям. Сравним ARPU, используя бутстрап.\n",
    "age_list = full_user_df_aa.query(\n",
    "    'age <= 60').age_category.sort_values().unique().to_list()\n",
    "for i in (age_list):\n",
    "    t_df = full_user_df_aa[(full_user_df_aa['age_category'] == i) & (\n",
    "        full_user_df_aa['test_group_union'] == \"test\")].sum_revenue\n",
    "    c_df = full_user_df_aa[(full_user_df_aa['age_category'] == i) & (\n",
    "        full_user_df_aa['test_group_union'] == \"control\")].sum_revenue\n",
    "    dict_boot = get_bootstrap(t_df, c_df, vis=False)\n",
    "    print(\n",
    "        f'Для возрастной категории {i} p - value boot =  {dict_boot[\"p_value\"]}')"
   ]
  },
  {
   "cell_type": "markdown",
   "id": "a6d7d0f6",
   "metadata": {},
   "source": [
    "### Вывод по возрастным категориям:\n",
    "Несмотря на различие между ARPU тестовой и контрольной группы разных возрастных категорий, статистически значимых отличий не обнаружено."
   ]
  },
  {
   "cell_type": "markdown",
   "id": "c6066661",
   "metadata": {},
   "source": [
    "### Страны"
   ]
  },
  {
   "cell_type": "code",
   "execution_count": 214,
   "id": "eed91e5a",
   "metadata": {},
   "outputs": [],
   "source": [
    "# Вначале посмотрим на количество пользователей из разных стран.\n",
    "# Выберем те страны, в которых в тестовой и контрольной группе более 100 пользователей.\n",
    "# Таких всего 11 стран из 72. Из них сформируем список.\n",
    "country_list = full_user_df_aa.groupby(['country', 'test_group_union'], as_index=False) \\\n",
    "    .agg({'uid': 'count'}) \\\n",
    "    .rename(columns={'uid': 'count'}) \\\n",
    "    .pivot(index='country', columns='test_group_union', values='count').reset_index() \\\n",
    "    .query('control>100 and test>100').country.to_list()"
   ]
  },
  {
   "cell_type": "code",
   "execution_count": 216,
   "id": "f0992027",
   "metadata": {
    "scrolled": true
   },
   "outputs": [
    {
     "data": {
      "text/html": [
       "<div>\n",
       "<style scoped>\n",
       "    .dataframe tbody tr th:only-of-type {\n",
       "        vertical-align: middle;\n",
       "    }\n",
       "\n",
       "    .dataframe tbody tr th {\n",
       "        vertical-align: top;\n",
       "    }\n",
       "\n",
       "    .dataframe thead th {\n",
       "        text-align: right;\n",
       "    }\n",
       "</style>\n",
       "<table border=\"1\" class=\"dataframe\">\n",
       "  <thead>\n",
       "    <tr style=\"text-align: right;\">\n",
       "      <th></th>\n",
       "      <th>uid</th>\n",
       "      <th>age</th>\n",
       "      <th>attraction_coeff</th>\n",
       "      <th>coins</th>\n",
       "      <th>country</th>\n",
       "      <th>visit_days</th>\n",
       "      <th>gender</th>\n",
       "      <th>age_filter_start</th>\n",
       "      <th>age_filter_end</th>\n",
       "      <th>views_count</th>\n",
       "      <th>was_premium</th>\n",
       "      <th>is_premium</th>\n",
       "      <th>total_revenue</th>\n",
       "      <th>test_group</th>\n",
       "      <th>sum_revenue</th>\n",
       "      <th>is_converted</th>\n",
       "      <th>test_group_union</th>\n",
       "      <th>age_category</th>\n",
       "    </tr>\n",
       "  </thead>\n",
       "  <tbody>\n",
       "    <tr>\n",
       "      <th>0</th>\n",
       "      <td>892309896</td>\n",
       "      <td>27</td>\n",
       "      <td>685</td>\n",
       "      <td>0.0</td>\n",
       "      <td>United States of America</td>\n",
       "      <td>1,2,3,4,5,6,7,8,9,10,11,12,16,17</td>\n",
       "      <td>1</td>\n",
       "      <td>24</td>\n",
       "      <td>30</td>\n",
       "      <td>89</td>\n",
       "      <td>0.0</td>\n",
       "      <td>0.0</td>\n",
       "      <td>0</td>\n",
       "      <td>test</td>\n",
       "      <td>0.0</td>\n",
       "      <td>0.0</td>\n",
       "      <td>test</td>\n",
       "      <td>26-35</td>\n",
       "    </tr>\n",
       "    <tr>\n",
       "      <th>1</th>\n",
       "      <td>892044516</td>\n",
       "      <td>27</td>\n",
       "      <td>0</td>\n",
       "      <td>0.0</td>\n",
       "      <td>Germany</td>\n",
       "      <td>0</td>\n",
       "      <td>1</td>\n",
       "      <td>24</td>\n",
       "      <td>30</td>\n",
       "      <td>0</td>\n",
       "      <td>0.0</td>\n",
       "      <td>0.0</td>\n",
       "      <td>0</td>\n",
       "      <td>test</td>\n",
       "      <td>0.0</td>\n",
       "      <td>0.0</td>\n",
       "      <td>test</td>\n",
       "      <td>26-35</td>\n",
       "    </tr>\n",
       "    <tr>\n",
       "      <th>2</th>\n",
       "      <td>892185708</td>\n",
       "      <td>45</td>\n",
       "      <td>44</td>\n",
       "      <td>0.0</td>\n",
       "      <td>Israel</td>\n",
       "      <td>1,3,4,6,7,8,10,11,12,13,14,15,16,17,18,19,20,2...</td>\n",
       "      <td>1</td>\n",
       "      <td>42</td>\n",
       "      <td>48</td>\n",
       "      <td>68</td>\n",
       "      <td>0.0</td>\n",
       "      <td>0.0</td>\n",
       "      <td>0</td>\n",
       "      <td>test</td>\n",
       "      <td>0.0</td>\n",
       "      <td>0.0</td>\n",
       "      <td>test</td>\n",
       "      <td>41-60</td>\n",
       "    </tr>\n",
       "    <tr>\n",
       "      <th>3</th>\n",
       "      <td>892130292</td>\n",
       "      <td>32</td>\n",
       "      <td>0</td>\n",
       "      <td>0.0</td>\n",
       "      <td>United States of America</td>\n",
       "      <td>1,2,3,4,5,6,7,8,9,10,11,12</td>\n",
       "      <td>1</td>\n",
       "      <td>29</td>\n",
       "      <td>35</td>\n",
       "      <td>0</td>\n",
       "      <td>0.0</td>\n",
       "      <td>0.0</td>\n",
       "      <td>0</td>\n",
       "      <td>test</td>\n",
       "      <td>0.0</td>\n",
       "      <td>0.0</td>\n",
       "      <td>test</td>\n",
       "      <td>26-35</td>\n",
       "    </tr>\n",
       "    <tr>\n",
       "      <th>4</th>\n",
       "      <td>891406035</td>\n",
       "      <td>27</td>\n",
       "      <td>1000</td>\n",
       "      <td>0.0</td>\n",
       "      <td>France</td>\n",
       "      <td>0</td>\n",
       "      <td>1</td>\n",
       "      <td>24</td>\n",
       "      <td>30</td>\n",
       "      <td>1</td>\n",
       "      <td>1.0</td>\n",
       "      <td>0.0</td>\n",
       "      <td>0</td>\n",
       "      <td>test</td>\n",
       "      <td>0.0</td>\n",
       "      <td>0.0</td>\n",
       "      <td>test</td>\n",
       "      <td>26-35</td>\n",
       "    </tr>\n",
       "    <tr>\n",
       "      <th>...</th>\n",
       "      <td>...</td>\n",
       "      <td>...</td>\n",
       "      <td>...</td>\n",
       "      <td>...</td>\n",
       "      <td>...</td>\n",
       "      <td>...</td>\n",
       "      <td>...</td>\n",
       "      <td>...</td>\n",
       "      <td>...</td>\n",
       "      <td>...</td>\n",
       "      <td>...</td>\n",
       "      <td>...</td>\n",
       "      <td>...</td>\n",
       "      <td>...</td>\n",
       "      <td>...</td>\n",
       "      <td>...</td>\n",
       "      <td>...</td>\n",
       "      <td>...</td>\n",
       "    </tr>\n",
       "    <tr>\n",
       "      <th>12907</th>\n",
       "      <td>891937401</td>\n",
       "      <td>63</td>\n",
       "      <td>242</td>\n",
       "      <td>0.0</td>\n",
       "      <td>Italy</td>\n",
       "      <td>1,2</td>\n",
       "      <td>1</td>\n",
       "      <td>50</td>\n",
       "      <td>66</td>\n",
       "      <td>33</td>\n",
       "      <td>0.0</td>\n",
       "      <td>0.0</td>\n",
       "      <td>0</td>\n",
       "      <td>control_2</td>\n",
       "      <td>0.0</td>\n",
       "      <td>0.0</td>\n",
       "      <td>control</td>\n",
       "      <td>60+</td>\n",
       "    </tr>\n",
       "    <tr>\n",
       "      <th>12908</th>\n",
       "      <td>891692844</td>\n",
       "      <td>35</td>\n",
       "      <td>500</td>\n",
       "      <td>0.0</td>\n",
       "      <td>France</td>\n",
       "      <td>1,2,3,4,5,6,8,9,10,11,12,14,16</td>\n",
       "      <td>1</td>\n",
       "      <td>24</td>\n",
       "      <td>45</td>\n",
       "      <td>2</td>\n",
       "      <td>0.0</td>\n",
       "      <td>0.0</td>\n",
       "      <td>0</td>\n",
       "      <td>control_2</td>\n",
       "      <td>0.0</td>\n",
       "      <td>0.0</td>\n",
       "      <td>control</td>\n",
       "      <td>26-35</td>\n",
       "    </tr>\n",
       "    <tr>\n",
       "      <th>12909</th>\n",
       "      <td>891096429</td>\n",
       "      <td>41</td>\n",
       "      <td>333</td>\n",
       "      <td>0.0</td>\n",
       "      <td>United States of America</td>\n",
       "      <td>0</td>\n",
       "      <td>1</td>\n",
       "      <td>38</td>\n",
       "      <td>44</td>\n",
       "      <td>6</td>\n",
       "      <td>0.0</td>\n",
       "      <td>0.0</td>\n",
       "      <td>0</td>\n",
       "      <td>control_2</td>\n",
       "      <td>0.0</td>\n",
       "      <td>0.0</td>\n",
       "      <td>control</td>\n",
       "      <td>41-60</td>\n",
       "    </tr>\n",
       "    <tr>\n",
       "      <th>12910</th>\n",
       "      <td>891697584</td>\n",
       "      <td>48</td>\n",
       "      <td>210</td>\n",
       "      <td>0.0</td>\n",
       "      <td>United Kingdom (Great Britain)</td>\n",
       "      <td>2,3,5,7,9,10,12,14,15</td>\n",
       "      <td>1</td>\n",
       "      <td>45</td>\n",
       "      <td>51</td>\n",
       "      <td>19</td>\n",
       "      <td>0.0</td>\n",
       "      <td>0.0</td>\n",
       "      <td>0</td>\n",
       "      <td>control_2</td>\n",
       "      <td>0.0</td>\n",
       "      <td>0.0</td>\n",
       "      <td>control</td>\n",
       "      <td>41-60</td>\n",
       "    </tr>\n",
       "    <tr>\n",
       "      <th>12911</th>\n",
       "      <td>891095634</td>\n",
       "      <td>22</td>\n",
       "      <td>0</td>\n",
       "      <td>0.0</td>\n",
       "      <td>Italy</td>\n",
       "      <td>0</td>\n",
       "      <td>1</td>\n",
       "      <td>19</td>\n",
       "      <td>25</td>\n",
       "      <td>0</td>\n",
       "      <td>0.0</td>\n",
       "      <td>0.0</td>\n",
       "      <td>0</td>\n",
       "      <td>control_2</td>\n",
       "      <td>0.0</td>\n",
       "      <td>0.0</td>\n",
       "      <td>control</td>\n",
       "      <td>16-25</td>\n",
       "    </tr>\n",
       "  </tbody>\n",
       "</table>\n",
       "<p>11847 rows × 18 columns</p>\n",
       "</div>"
      ],
      "text/plain": [
       "             uid  age  attraction_coeff  coins  \\\n",
       "0      892309896   27               685    0.0   \n",
       "1      892044516   27                 0    0.0   \n",
       "2      892185708   45                44    0.0   \n",
       "3      892130292   32                 0    0.0   \n",
       "4      891406035   27              1000    0.0   \n",
       "...          ...  ...               ...    ...   \n",
       "12907  891937401   63               242    0.0   \n",
       "12908  891692844   35               500    0.0   \n",
       "12909  891096429   41               333    0.0   \n",
       "12910  891697584   48               210    0.0   \n",
       "12911  891095634   22                 0    0.0   \n",
       "\n",
       "                              country  \\\n",
       "0            United States of America   \n",
       "1                             Germany   \n",
       "2                              Israel   \n",
       "3            United States of America   \n",
       "4                              France   \n",
       "...                               ...   \n",
       "12907                           Italy   \n",
       "12908                          France   \n",
       "12909        United States of America   \n",
       "12910  United Kingdom (Great Britain)   \n",
       "12911                           Italy   \n",
       "\n",
       "                                              visit_days  gender  \\\n",
       "0                       1,2,3,4,5,6,7,8,9,10,11,12,16,17       1   \n",
       "1                                                      0       1   \n",
       "2      1,3,4,6,7,8,10,11,12,13,14,15,16,17,18,19,20,2...       1   \n",
       "3                             1,2,3,4,5,6,7,8,9,10,11,12       1   \n",
       "4                                                      0       1   \n",
       "...                                                  ...     ...   \n",
       "12907                                                1,2       1   \n",
       "12908                     1,2,3,4,5,6,8,9,10,11,12,14,16       1   \n",
       "12909                                                  0       1   \n",
       "12910                              2,3,5,7,9,10,12,14,15       1   \n",
       "12911                                                  0       1   \n",
       "\n",
       "       age_filter_start  age_filter_end  views_count  was_premium  is_premium  \\\n",
       "0                    24              30           89          0.0         0.0   \n",
       "1                    24              30            0          0.0         0.0   \n",
       "2                    42              48           68          0.0         0.0   \n",
       "3                    29              35            0          0.0         0.0   \n",
       "4                    24              30            1          1.0         0.0   \n",
       "...                 ...             ...          ...          ...         ...   \n",
       "12907                50              66           33          0.0         0.0   \n",
       "12908                24              45            2          0.0         0.0   \n",
       "12909                38              44            6          0.0         0.0   \n",
       "12910                45              51           19          0.0         0.0   \n",
       "12911                19              25            0          0.0         0.0   \n",
       "\n",
       "       total_revenue test_group  sum_revenue  is_converted test_group_union  \\\n",
       "0                  0       test          0.0           0.0             test   \n",
       "1                  0       test          0.0           0.0             test   \n",
       "2                  0       test          0.0           0.0             test   \n",
       "3                  0       test          0.0           0.0             test   \n",
       "4                  0       test          0.0           0.0             test   \n",
       "...              ...        ...          ...           ...              ...   \n",
       "12907              0  control_2          0.0           0.0          control   \n",
       "12908              0  control_2          0.0           0.0          control   \n",
       "12909              0  control_2          0.0           0.0          control   \n",
       "12910              0  control_2          0.0           0.0          control   \n",
       "12911              0  control_2          0.0           0.0          control   \n",
       "\n",
       "      age_category  \n",
       "0            26-35  \n",
       "1            26-35  \n",
       "2            41-60  \n",
       "3            26-35  \n",
       "4            26-35  \n",
       "...            ...  \n",
       "12907          60+  \n",
       "12908        26-35  \n",
       "12909        41-60  \n",
       "12910        41-60  \n",
       "12911        16-25  \n",
       "\n",
       "[11847 rows x 18 columns]"
      ]
     },
     "execution_count": 216,
     "metadata": {},
     "output_type": "execute_result"
    }
   ],
   "source": [
    "full_user_df_aa.query('country in @country_list')"
   ]
  },
  {
   "cell_type": "code",
   "execution_count": 222,
   "id": "a3f5335c",
   "metadata": {},
   "outputs": [
    {
     "data": {
      "image/png": "[encoded data removed]",
      "text/plain": [
       "<Figure size 1080x360 with 2 Axes>"
      ]
     },
     "metadata": {},
     "output_type": "display_data"
    }
   ],
   "source": [
    "# По тому же принципу построим сводную таблицу со значением ARPU по странам\n",
    "pivot_ARPU_country_df = full_user_df_aa.query('country in @country_list').pivot_table(index='country',\n",
    "                                                                                      columns='test_group_union',\n",
    "                                                                                      values='sum_revenue'\n",
    "                                                                                      ).rename_axis(None).round(2)\n",
    "'''для наглядности построим heatmap'''\n",
    "ax = sns.heatmap(pivot_ARPU_country_df, cmap='coolwarm',\n",
    "                 annot=True,\n",
    "                 fmt=''\n",
    "                 )\n",
    "ax.axes.set_title(\n",
    "    'ARPU по странам', fontsize=18, pad=10)\n",
    "ax.set_xlabel(\"Группа\", fontsize=14)\n",
    "ax.set_ylabel(\"Страна\", fontsize=14)\n",
    "plt.show()"
   ]
  },
  {
   "cell_type": "code",
   "execution_count": 227,
   "id": "9e0b74ef",
   "metadata": {},
   "outputs": [
    {
     "data": {
      "application/vnd.jupyter.widget-view+json": {
       "model_id": "33c373fbfdf54bcb9640f15fd5c0bb78",
       "version_major": 2,
       "version_minor": 0
      },
      "text/plain": [
       "  0%|          | 0/10000 [00:00<?, ?it/s]"
      ]
     },
     "metadata": {},
     "output_type": "display_data"
    },
    {
     "name": "stdout",
     "output_type": "stream",
     "text": [
      "Для страны Argentina p - value boot =  0.4826195333753859\n"
     ]
    },
    {
     "data": {
      "application/vnd.jupyter.widget-view+json": {
       "model_id": "bbd4b327bb114742beecb4119c3e9bd1",
       "version_major": 2,
       "version_minor": 0
      },
      "text/plain": [
       "  0%|          | 0/10000 [00:00<?, ?it/s]"
      ]
     },
     "metadata": {},
     "output_type": "display_data"
    },
    {
     "name": "stdout",
     "output_type": "stream",
     "text": [
      "Для страны Canada p - value boot =  0.9659560130793943\n"
     ]
    },
    {
     "data": {
      "application/vnd.jupyter.widget-view+json": {
       "model_id": "e65e5637a3e74953ae163794db51cba8",
       "version_major": 2,
       "version_minor": 0
      },
      "text/plain": [
       "  0%|          | 0/10000 [00:00<?, ?it/s]"
      ]
     },
     "metadata": {},
     "output_type": "display_data"
    },
    {
     "name": "stdout",
     "output_type": "stream",
     "text": [
      "Для страны Chile p - value boot =  0.4446370038457139\n"
     ]
    },
    {
     "data": {
      "application/vnd.jupyter.widget-view+json": {
       "model_id": "be8cc8813f52497380382da82ae372dd",
       "version_major": 2,
       "version_minor": 0
      },
      "text/plain": [
       "  0%|          | 0/10000 [00:00<?, ?it/s]"
      ]
     },
     "metadata": {},
     "output_type": "display_data"
    },
    {
     "name": "stdout",
     "output_type": "stream",
     "text": [
      "Для страны France p - value boot =  0.06011036547611578\n"
     ]
    },
    {
     "data": {
      "application/vnd.jupyter.widget-view+json": {
       "model_id": "a9e7e6f040544aca94af3674e7d2b617",
       "version_major": 2,
       "version_minor": 0
      },
      "text/plain": [
       "  0%|          | 0/10000 [00:00<?, ?it/s]"
      ]
     },
     "metadata": {},
     "output_type": "display_data"
    },
    {
     "name": "stdout",
     "output_type": "stream",
     "text": [
      "Для страны Germany p - value boot =  0.2529506456840177\n"
     ]
    },
    {
     "data": {
      "application/vnd.jupyter.widget-view+json": {
       "model_id": "1466655fc6ee4744913e7c6329eef020",
       "version_major": 2,
       "version_minor": 0
      },
      "text/plain": [
       "  0%|          | 0/10000 [00:00<?, ?it/s]"
      ]
     },
     "metadata": {},
     "output_type": "display_data"
    },
    {
     "name": "stdout",
     "output_type": "stream",
     "text": [
      "Для страны Israel p - value boot =  0.7845288392324525\n"
     ]
    },
    {
     "data": {
      "application/vnd.jupyter.widget-view+json": {
       "model_id": "4c5cdfaf845a4f23b0b9571029d13c93",
       "version_major": 2,
       "version_minor": 0
      },
      "text/plain": [
       "  0%|          | 0/10000 [00:00<?, ?it/s]"
      ]
     },
     "metadata": {},
     "output_type": "display_data"
    },
    {
     "name": "stdout",
     "output_type": "stream",
     "text": [
      "Для страны Italy p - value boot =  0.6181885420622255\n"
     ]
    },
    {
     "data": {
      "application/vnd.jupyter.widget-view+json": {
       "model_id": "38083680a831450fa6d79a90d07d32d1",
       "version_major": 2,
       "version_minor": 0
      },
      "text/plain": [
       "  0%|          | 0/10000 [00:00<?, ?it/s]"
      ]
     },
     "metadata": {},
     "output_type": "display_data"
    },
    {
     "name": "stdout",
     "output_type": "stream",
     "text": [
      "Для страны Spain p - value boot =  0.14116813014951868\n"
     ]
    },
    {
     "data": {
      "application/vnd.jupyter.widget-view+json": {
       "model_id": "3a062a3ebf5f43fe9438f231ac89f120",
       "version_major": 2,
       "version_minor": 0
      },
      "text/plain": [
       "  0%|          | 0/10000 [00:00<?, ?it/s]"
      ]
     },
     "metadata": {},
     "output_type": "display_data"
    },
    {
     "name": "stdout",
     "output_type": "stream",
     "text": [
      "Для страны United Arab Emirates p - value boot =  0.2949138590152195\n"
     ]
    },
    {
     "data": {
      "application/vnd.jupyter.widget-view+json": {
       "model_id": "0f036aef85ef4aa89b466b297795aac7",
       "version_major": 2,
       "version_minor": 0
      },
      "text/plain": [
       "  0%|          | 0/10000 [00:00<?, ?it/s]"
      ]
     },
     "metadata": {},
     "output_type": "display_data"
    },
    {
     "name": "stdout",
     "output_type": "stream",
     "text": [
      "Для страны United Kingdom (Great Britain) p - value boot =  0.12261275133335467\n"
     ]
    },
    {
     "data": {
      "application/vnd.jupyter.widget-view+json": {
       "model_id": "a912f9d66b4f4945a1b501177c8a0928",
       "version_major": 2,
       "version_minor": 0
      },
      "text/plain": [
       "  0%|          | 0/10000 [00:00<?, ?it/s]"
      ]
     },
     "metadata": {},
     "output_type": "display_data"
    },
    {
     "name": "stdout",
     "output_type": "stream",
     "text": [
      "Для страны United States of America p - value boot =  0.5713334642469718\n"
     ]
    }
   ],
   "source": [
    "# Проведём тесты по странам. Сравним ARPU, используя бутстрап.\n",
    "for i in (country_list):\n",
    "    t_df = full_user_df_aa[(full_user_df_aa['country'] == i) & (\n",
    "        full_user_df_aa['test_group_union'] == \"test\")].sum_revenue\n",
    "    c_df = full_user_df_aa[(full_user_df_aa['country'] == i) & (\n",
    "        full_user_df_aa['test_group_union'] == \"control\")].sum_revenue\n",
    "    dict_boot = get_bootstrap(t_df, c_df, vis=False)\n",
    "    print(f'Для страны {i} p - value boot =  {dict_boot[\"p_value\"]}')"
   ]
  },
  {
   "cell_type": "markdown",
   "id": "27bf0db3",
   "metadata": {},
   "source": [
    "### Вывод по странам:\n",
    "Хотя в некоторых странах ARPU сильно отличается, статистически значимых изменений не установлено."
   ]
  },
  {
   "cell_type": "markdown",
   "id": "35a27fdd",
   "metadata": {},
   "source": [
    "## Общий вывод:\n",
    "Эксперимент в общем успешен, но статистически значимых изменений среди каких- то конкретных групп пользователей не установлено."
   ]
  }
 ],
 "metadata": {
  "kernelspec": {
   "display_name": "Python 3 (ipykernel)",
   "language": "python",
   "name": "python3"
  },
  "language_info": {
   "codemirror_mode": {
    "name": "ipython",
    "version": 3
   },
   "file_extension": ".py",
   "mimetype": "text/x-python",
   "name": "python",
   "nbconvert_exporter": "python",
   "pygments_lexer": "ipython3",
   "version": "3.8.12"
  }
 },
 "nbformat": 4,
 "nbformat_minor": 5
}
