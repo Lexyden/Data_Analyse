{
 "cells": [
  {
   "cell_type": "markdown",
   "id": "a2e63487",
   "metadata": {},
   "source": [
    "## Решаем задачи на применение формулы Бернулли"
   ]
  },
  {
   "cell_type": "code",
   "execution_count": 8,
   "id": "22ab3652",
   "metadata": {},
   "outputs": [],
   "source": [
    "#Для вычисления биномиального коэффиициента импортируем формулу факториала\n",
    "from math import factorial"
   ]
  },
  {
   "cell_type": "code",
   "execution_count": 9,
   "id": "b4a536bb",
   "metadata": {},
   "outputs": [],
   "source": [
    "#Создадим функцию для вычисления биномиального коэффициента\n",
    "def get_binomial(n,k):\n",
    "    return factorial(n) / (factorial(k) * factorial(n-k))    "
   ]
  },
  {
   "cell_type": "code",
   "execution_count": 10,
   "id": "2099f534",
   "metadata": {},
   "outputs": [],
   "source": [
    "#Также можно импортировать сразу функцию, вычисляющую биномиальный коэффициент\n",
    "from math import comb"
   ]
  },
  {
   "cell_type": "markdown",
   "id": "8ee83232",
   "metadata": {},
   "source": [
    "Для вычисления вероятности типа \"мы кинули монетку n раз, орел выпал из них k раз - какова вероятность этого события?\"\n",
    "Используем формулу Бернулли.\n",
    "Нам нужны данные:\n",
    "n - общее количество событий (бросков)\n",
    "к - количество нужных событий (выпадение орла/решки)\n",
    "p - вероятность нужного события\n",
    "q - вероятность ненужного события"
   ]
  },
  {
   "cell_type": "code",
   "execution_count": 11,
   "id": "137951f4",
   "metadata": {},
   "outputs": [],
   "source": [
    "#Создадим функцию вычисления вероятности по формуле Бернулли\n",
    "def get_p_bernulli(n,k,p,q):\n",
    "    p_bernulli = get_binomial(n,k) * p**k * q**(n-k)\n",
    "    return p_bernulli\n"
   ]
  },
  {
   "cell_type": "markdown",
   "id": "3e768ecf",
   "metadata": {},
   "source": [
    "### Задание 1\n",
    "\n",
    "Устройство, состоящее из пяти независимо работающих элементов, включается за время Т. Вероятность отказа каждого из них за это время равна 0,4. Найти вероятность того, что откажут три элемента. Ответ округлите до четырёх знаков после запятой. В качестве десятичного разделителя используйте точку."
   ]
  },
  {
   "cell_type": "code",
   "execution_count": 14,
   "id": "0a0913b2",
   "metadata": {},
   "outputs": [
    {
     "data": {
      "text/plain": [
       "0.2304"
      ]
     },
     "execution_count": 14,
     "metadata": {},
     "output_type": "execute_result"
    }
   ],
   "source": [
    "round(get_p_bernulli(n=5,k=3,p=0.4,q=0.6),4)"
   ]
  },
  {
   "cell_type": "markdown",
   "id": "a56586c6",
   "metadata": {},
   "source": [
    "### Задание 2\n",
    "\n",
    "Устройство, состоящее из пяти независимо работающих элементов, включается за время Т. Вероятность отказа каждого из них за это время равна 0,4. Найдите вероятность того, что **хотя бы** один элемент откажет. Ответ округлите до трёх знаков после запятой. В качестве десятичного разделителя используйте точку."
   ]
  },
  {
   "cell_type": "code",
   "execution_count": 16,
   "id": "514431a2",
   "metadata": {},
   "outputs": [
    {
     "data": {
      "text/plain": [
       "0.922"
      ]
     },
     "execution_count": 16,
     "metadata": {},
     "output_type": "execute_result"
    }
   ],
   "source": [
    "#Идём от обратного, то есть вычитаем из единицы вероятность того, что всё работает\n",
    "round(1-get_p_bernulli(n=5,k=0,p=0.4,q=0.6),3)"
   ]
  },
  {
   "cell_type": "markdown",
   "id": "ede2e0af",
   "metadata": {},
   "source": [
    "### Задание 3\n",
    "\n",
    "Производится 8 выстрелов по цели, в каждом из которых вероятность попадания равна 0,3. Найти вероятность того, что цель будет поражена **хотя бы** два раза. Ответ округлите до тысячных. В качестве десятичного разделителя используйте точку."
   ]
  },
  {
   "cell_type": "code",
   "execution_count": 19,
   "id": "cbb128cf",
   "metadata": {},
   "outputs": [
    {
     "data": {
      "text/plain": [
       "0.745"
      ]
     },
     "execution_count": 19,
     "metadata": {},
     "output_type": "execute_result"
    }
   ],
   "source": [
    "round(1-get_p_bernulli(n=8,k=0,p=0.3,q=0.7)-get_p_bernulli(n=8,k=1,p=0.3,q=0.7),3)"
   ]
  },
  {
   "cell_type": "markdown",
   "id": "fa9f2662",
   "metadata": {},
   "source": [
    "### Задание 4\n",
    "\n",
    "В магазине 7 покупателей. Каждый может совершить покупку с вероятностью 0,4. Найти вероятность того, что **не более двух** человек совершат покупку. Ответ округлите до сотых. В качестве десятичного разделителя используйте точку."
   ]
  },
  {
   "cell_type": "code",
   "execution_count": 20,
   "id": "95c67aab",
   "metadata": {},
   "outputs": [
    {
     "data": {
      "text/plain": [
       "0.42"
      ]
     },
     "execution_count": 20,
     "metadata": {},
     "output_type": "execute_result"
    }
   ],
   "source": [
    "round(get_p_bernulli(n=7,k=0,p=0.4,q=0.6) + get_p_bernulli(n=7,k=1,p=0.4,q=0.6) + get_p_bernulli(n=7,k=2,p=0.4,q=0.6),2)"
   ]
  },
  {
   "cell_type": "markdown",
   "id": "401f8e11",
   "metadata": {},
   "source": [
    "### Задание 5\n",
    "\n",
    "В телеателье имеется 7 телевизоров. Для каждого телевизора вероятность того, что в данный момент он включен, равна 0,5. Найти вероятность того, что в данный момент включены __не менее трех__ телевизоров. Ответ округлите до тысячных. В качестве десятичного разделителя используйте точку."
   ]
  },
  {
   "cell_type": "code",
   "execution_count": 22,
   "id": "a5686836",
   "metadata": {},
   "outputs": [
    {
     "data": {
      "text/plain": [
       "0.773"
      ]
     },
     "execution_count": 22,
     "metadata": {},
     "output_type": "execute_result"
    }
   ],
   "source": [
    "round(1-(get_p_bernulli(n=7,k=0,p=0.5,q=0.5) + get_p_bernulli(n=7,k=1,p=0.5,q=0.5) + get_p_bernulli(n=7,k=2,p=0.5,q=0.5)), 3)"
   ]
  },
  {
   "cell_type": "markdown",
   "id": "05d37dd4",
   "metadata": {},
   "source": [
    "### Задание 6\n",
    "\n",
    "Пусть вероятность того, что покупателю необходим компьютер с операционной системой Linux, равна 0.25. Найдите вероятность того, что из шести покупателей __по крайней мере двум__ необходим компьютер с операционной системой Linux.\n",
    "\n",
    "Ответ округлите до сотых, в качестве разделителя используйте точку."
   ]
  },
  {
   "cell_type": "code",
   "execution_count": 24,
   "id": "be9c7a84",
   "metadata": {},
   "outputs": [
    {
     "data": {
      "text/plain": [
       "0.47"
      ]
     },
     "execution_count": 24,
     "metadata": {},
     "output_type": "execute_result"
    }
   ],
   "source": [
    "round(1 - get_p_bernulli(n=6,k=0,p=0.25,q=0.75) - get_p_bernulli(n=6,k=1,p=0.25,q=0.75),2)"
   ]
  },
  {
   "cell_type": "markdown",
   "id": "55fc63e9",
   "metadata": {},
   "source": [
    "### Задание 7\n",
    "\n",
    "Для нормальной работы отдела по дата-аналитике необходимо, чтобы в офисе было __не менее восьми__ программистов, а всего в штате 10 программистов. Вероятность того, что программист заболеет, равна 0.1. Найдите вероятность нормальной работы отдела по дата-аналитике.\n",
    "\n",
    "Ответ округлите до сотых, а в качестве разделителя используйте точку."
   ]
  },
  {
   "cell_type": "code",
   "execution_count": 25,
   "id": "81b20c12",
   "metadata": {},
   "outputs": [
    {
     "data": {
      "text/plain": [
       "0.93"
      ]
     },
     "execution_count": 25,
     "metadata": {},
     "output_type": "execute_result"
    }
   ],
   "source": [
    "round(get_p_bernulli(n=10,k=0,p=0.1,q=0.9)+get_p_bernulli(n=10,k=1,p=0.1,q=0.9)+get_p_bernulli(n=10,k=2,p=0.1,q=0.9), 2)"
   ]
  },
  {
   "cell_type": "markdown",
   "id": "62e7f9dc",
   "metadata": {},
   "source": [
    "### Задание 8\n",
    "\n",
    "Среди всех скриптов, которые пишет программист, с 10%-ой вероятностью скрипт будет с ошибкой. Найдем вероятность того, что среди 30 скриптов __два__ не будут работать.\n",
    "\n",
    "Ответ округлите до тысячных, в качестве десятичного разделителя используйте точку."
   ]
  },
  {
   "cell_type": "code",
   "execution_count": 26,
   "id": "6db658c6",
   "metadata": {},
   "outputs": [
    {
     "data": {
      "text/plain": [
       "0.228"
      ]
     },
     "execution_count": 26,
     "metadata": {},
     "output_type": "execute_result"
    }
   ],
   "source": [
    "round(get_p_bernulli(n=30,k=2,p=0.1,q=0.9),3)"
   ]
  },
  {
   "cell_type": "markdown",
   "id": "3e2e1df4",
   "metadata": {},
   "source": [
    "### Задание 9 Наиболее вероятное число успехов\n",
    "\n",
    "В очень большом чате по дата аналитике сидит 1730 человек. Вероятность того, что день рождения наугад взятого участника чата приходится на определенный день года, равна 1/365 для каждого из 365 дней. Найдем наиболее вероятное число счастливчиков, которые родились 1 марта."
   ]
  },
  {
   "cell_type": "markdown",
   "id": "cb0e9ee3",
   "metadata": {},
   "source": [
    "Формула наиболее вероятного числа успехов m\n",
    "np − q ≤ m ≤ np + p\n",
    "n - количество людей в чатике\n",
    "p - вероятность, что у человека день рождения\n",
    "q - вероятность, что у человека не день рождения\n",
    "m - интересующее нас число (должно быть целым)."
   ]
  },
  {
   "cell_type": "code",
   "execution_count": 28,
   "id": "7d5513d1",
   "metadata": {},
   "outputs": [],
   "source": [
    "n=1730\n",
    "p=1/365\n",
    "q=1-(1/365)"
   ]
  },
  {
   "cell_type": "code",
   "execution_count": 30,
   "id": "689e8694",
   "metadata": {},
   "outputs": [
    {
     "name": "stdout",
     "output_type": "stream",
     "text": [
      "m от 3.74 до 4.74\n"
     ]
    }
   ],
   "source": [
    "m_ot=round(n*p-q,2)\n",
    "m_do=round(n*p+p,2)\n",
    "print(f'm от {m_ot} до {m_do}' )"
   ]
  },
  {
   "cell_type": "markdown",
   "id": "39a5c6b9",
   "metadata": {},
   "source": [
    "### Задание 10\n",
    "\n",
    "В урне 20 шаров: 15 белых и 5 чёрных. Вынули подряд 5 шаров, причём каждый вынутый шар возвращается в урну и перед извлечением следующего шары в урне тщательно перемешиваются. Найдите вероятность того, что из пяти вынутых шаров будет 2 белых.\n",
    "\n",
    "Ответ округлите до тысячных, в качестве десятичного разделителя используйте точку."
   ]
  },
  {
   "cell_type": "code",
   "execution_count": 31,
   "id": "b03c0f00",
   "metadata": {},
   "outputs": [
    {
     "data": {
      "text/plain": [
       "0.088"
      ]
     },
     "execution_count": 31,
     "metadata": {},
     "output_type": "execute_result"
    }
   ],
   "source": [
    "round(get_p_bernulli(n=5,k=2,p=0.75,q=0.25),3)"
   ]
  },
  {
   "cell_type": "code",
   "execution_count": null,
   "id": "455e430a",
   "metadata": {},
   "outputs": [],
   "source": [
    "1+2+3+4"
   ]
  }
 ],
 "metadata": {
  "kernelspec": {
   "display_name": "Python 3",
   "language": "python",
   "name": "python3"
  },
  "language_info": {
   "codemirror_mode": {
    "name": "ipython",
    "version": 3
   },
   "file_extension": ".py",
   "mimetype": "text/x-python",
   "name": "python",
   "nbconvert_exporter": "python",
   "pygments_lexer": "ipython3",
   "version": "3.8.8"
  }
 },
 "nbformat": 4,
 "nbformat_minor": 5
}
